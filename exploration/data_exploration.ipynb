{
 "cells": [
  {
   "cell_type": "code",
   "execution_count": 1,
   "metadata": {},
   "outputs": [
    {
     "name": "stdout",
     "output_type": "stream",
     "text": [
      "Requirement already satisfied: sqlalchemy in c:\\users\\johan\\onedrive\\documentos\\test\\globant\\lambda-test\\venv\\lib\\site-packages (2.0.38)\n",
      "Requirement already satisfied: pandas in c:\\users\\johan\\onedrive\\documentos\\test\\globant\\lambda-test\\venv\\lib\\site-packages (2.2.3)\n",
      "Requirement already satisfied: greenlet!=0.4.17 in c:\\users\\johan\\onedrive\\documentos\\test\\globant\\lambda-test\\venv\\lib\\site-packages (from sqlalchemy) (3.1.1)\n",
      "Requirement already satisfied: typing-extensions>=4.6.0 in c:\\users\\johan\\onedrive\\documentos\\test\\globant\\lambda-test\\venv\\lib\\site-packages (from sqlalchemy) (4.12.2)\n",
      "Requirement already satisfied: numpy>=1.23.2 in c:\\users\\johan\\onedrive\\documentos\\test\\globant\\lambda-test\\venv\\lib\\site-packages (from pandas) (2.2.3)\n",
      "Requirement already satisfied: python-dateutil>=2.8.2 in c:\\users\\johan\\onedrive\\documentos\\test\\globant\\lambda-test\\venv\\lib\\site-packages (from pandas) (2.9.0.post0)\n",
      "Requirement already satisfied: pytz>=2020.1 in c:\\users\\johan\\onedrive\\documentos\\test\\globant\\lambda-test\\venv\\lib\\site-packages (from pandas) (2025.1)\n",
      "Requirement already satisfied: tzdata>=2022.7 in c:\\users\\johan\\onedrive\\documentos\\test\\globant\\lambda-test\\venv\\lib\\site-packages (from pandas) (2025.1)\n",
      "Requirement already satisfied: six>=1.5 in c:\\users\\johan\\onedrive\\documentos\\test\\globant\\lambda-test\\venv\\lib\\site-packages (from python-dateutil>=2.8.2->pandas) (1.17.0)\n"
     ]
    },
    {
     "name": "stderr",
     "output_type": "stream",
     "text": [
      "\n",
      "[notice] A new release of pip is available: 23.1.2 -> 25.0.1\n",
      "[notice] To update, run: python.exe -m pip install --upgrade pip\n"
     ]
    }
   ],
   "source": [
    "!pip install sqlalchemy  pandas"
   ]
  },
  {
   "cell_type": "code",
   "execution_count": 1,
   "metadata": {},
   "outputs": [],
   "source": [
    "from psycopg2 import connect\n",
    "from dotenv import load_dotenv\n",
    "from sqlalchemy import create_engine\n",
    "\n",
    "import pandas as pd\n",
    "import os"
   ]
  },
  {
   "cell_type": "code",
   "execution_count": 2,
   "metadata": {},
   "outputs": [],
   "source": [
    "load_dotenv()\n",
    "dbname = os.getenv('DBNAME')\n",
    "user = os.getenv('USER')\n",
    "password = os.getenv('PASSWORD')\n",
    "host = os.getenv('HOST')\n",
    "port = os.getenv('PORT')"
   ]
  },
  {
   "cell_type": "code",
   "execution_count": 3,
   "metadata": {},
   "outputs": [],
   "source": [
    "def db_connect():\n",
    "    \"\"\"Establishes a connection to the database.\"\"\"\n",
    "    return connect(\n",
    "        dbname = dbname,\n",
    "        user = user,\n",
    "        password = password,\n",
    "        host = host,\n",
    "        port = port\n",
    "    )"
   ]
  },
  {
   "cell_type": "code",
   "execution_count": 4,
   "metadata": {},
   "outputs": [],
   "source": [
    "conn = db_connect()"
   ]
  },
  {
   "cell_type": "code",
   "execution_count": 5,
   "metadata": {},
   "outputs": [],
   "source": [
    "engine = create_engine(f'postgresql://{user}:{password}@{host}:{port}/{dbname}')"
   ]
  },
  {
   "cell_type": "code",
   "execution_count": 6,
   "metadata": {},
   "outputs": [],
   "source": [
    "#query = \"\"\"\n",
    "#    SELECT \n",
    "#        department_id,\n",
    "#        job_id,\n",
    "#        EXTRACT(QUARTER FROM TO_DATE(datetime, 'YYYY-MM-DD')) AS quarter,\n",
    "#        COUNT(id) AS num_hired\n",
    "#    FROM public.employees\n",
    "#    WHERE EXTRACT(YEAR FROM TO_DATE(datetime, 'YYYY-MM-DD')) = 2021\n",
    "#    GROUP BY department_id, job_id, quarter\n",
    "#    ORDER BY department_id ASC, job_id ASC;\n",
    "#\"\"\""
   ]
  },
  {
   "cell_type": "code",
   "execution_count": null,
   "metadata": {},
   "outputs": [],
   "source": [
    "query_1 = \"\"\"\n",
    "    SELECT \n",
    "        d.department, \n",
    "        j.job,\n",
    "        COUNT(e.id) FILTER (WHERE EXTRACT(QUARTER FROM TO_DATE(e.datetime, 'YYYY-MM-DD')) = 1) AS Q1,\n",
    "        COUNT(e.id) FILTER (WHERE EXTRACT(QUARTER FROM TO_DATE(e.datetime, 'YYYY-MM-DD')) = 2) AS Q2,\n",
    "        COUNT(e.id) FILTER (WHERE EXTRACT(QUARTER FROM TO_DATE(e.datetime, 'YYYY-MM-DD')) = 3) AS Q3,\n",
    "        COUNT(e.id) FILTER (WHERE EXTRACT(QUARTER FROM TO_DATE(e.datetime, 'YYYY-MM-DD')) = 4) AS Q4\n",
    "    FROM public.employees e\n",
    "    JOIN public.jobs j ON e.job_id = j.id\n",
    "    JOIN public.departments d ON e.department_id = d.id\n",
    "    WHERE EXTRACT(YEAR FROM TO_DATE(e.datetime, 'YYYY-MM-DD')) = 2021\n",
    "    GROUP BY d.department, j.job\n",
    "    ORDER BY d.department ASC, j.job ASC;\n",
    "\"\"\""
   ]
  },
  {
   "cell_type": "code",
   "execution_count": null,
   "metadata": {},
   "outputs": [],
   "source": [
    "df_1 = pd.read_sql(query_1, engine)"
   ]
  },
  {
   "cell_type": "code",
   "execution_count": null,
   "metadata": {},
   "outputs": [
    {
     "data": {
      "text/html": [
       "<div>\n",
       "<style scoped>\n",
       "    .dataframe tbody tr th:only-of-type {\n",
       "        vertical-align: middle;\n",
       "    }\n",
       "\n",
       "    .dataframe tbody tr th {\n",
       "        vertical-align: top;\n",
       "    }\n",
       "\n",
       "    .dataframe thead th {\n",
       "        text-align: right;\n",
       "    }\n",
       "</style>\n",
       "<table border=\"1\" class=\"dataframe\">\n",
       "  <thead>\n",
       "    <tr style=\"text-align: right;\">\n",
       "      <th></th>\n",
       "      <th>department</th>\n",
       "      <th>job</th>\n",
       "      <th>q1</th>\n",
       "      <th>q2</th>\n",
       "      <th>q3</th>\n",
       "      <th>q4</th>\n",
       "    </tr>\n",
       "  </thead>\n",
       "  <tbody>\n",
       "    <tr>\n",
       "      <th>0</th>\n",
       "      <td>Accounting</td>\n",
       "      <td>Account Representative IV</td>\n",
       "      <td>1</td>\n",
       "      <td>0</td>\n",
       "      <td>0</td>\n",
       "      <td>0</td>\n",
       "    </tr>\n",
       "    <tr>\n",
       "      <th>1</th>\n",
       "      <td>Accounting</td>\n",
       "      <td>Actuary</td>\n",
       "      <td>0</td>\n",
       "      <td>1</td>\n",
       "      <td>0</td>\n",
       "      <td>0</td>\n",
       "    </tr>\n",
       "    <tr>\n",
       "      <th>2</th>\n",
       "      <td>Accounting</td>\n",
       "      <td>Analyst Programmer</td>\n",
       "      <td>0</td>\n",
       "      <td>0</td>\n",
       "      <td>1</td>\n",
       "      <td>0</td>\n",
       "    </tr>\n",
       "    <tr>\n",
       "      <th>3</th>\n",
       "      <td>Accounting</td>\n",
       "      <td>Budget/Accounting Analyst III</td>\n",
       "      <td>0</td>\n",
       "      <td>1</td>\n",
       "      <td>0</td>\n",
       "      <td>0</td>\n",
       "    </tr>\n",
       "    <tr>\n",
       "      <th>4</th>\n",
       "      <td>Accounting</td>\n",
       "      <td>Cost Accountant</td>\n",
       "      <td>0</td>\n",
       "      <td>1</td>\n",
       "      <td>0</td>\n",
       "      <td>0</td>\n",
       "    </tr>\n",
       "    <tr>\n",
       "      <th>...</th>\n",
       "      <td>...</td>\n",
       "      <td>...</td>\n",
       "      <td>...</td>\n",
       "      <td>...</td>\n",
       "      <td>...</td>\n",
       "      <td>...</td>\n",
       "    </tr>\n",
       "    <tr>\n",
       "      <th>928</th>\n",
       "      <td>Training</td>\n",
       "      <td>Teacher</td>\n",
       "      <td>0</td>\n",
       "      <td>2</td>\n",
       "      <td>0</td>\n",
       "      <td>0</td>\n",
       "    </tr>\n",
       "    <tr>\n",
       "      <th>929</th>\n",
       "      <td>Training</td>\n",
       "      <td>Technical Writer</td>\n",
       "      <td>0</td>\n",
       "      <td>0</td>\n",
       "      <td>1</td>\n",
       "      <td>0</td>\n",
       "    </tr>\n",
       "    <tr>\n",
       "      <th>930</th>\n",
       "      <td>Training</td>\n",
       "      <td>VP Product Management</td>\n",
       "      <td>1</td>\n",
       "      <td>0</td>\n",
       "      <td>0</td>\n",
       "      <td>0</td>\n",
       "    </tr>\n",
       "    <tr>\n",
       "      <th>931</th>\n",
       "      <td>Training</td>\n",
       "      <td>VP Quality Control</td>\n",
       "      <td>0</td>\n",
       "      <td>1</td>\n",
       "      <td>0</td>\n",
       "      <td>0</td>\n",
       "    </tr>\n",
       "    <tr>\n",
       "      <th>932</th>\n",
       "      <td>Training</td>\n",
       "      <td>Web Developer III</td>\n",
       "      <td>0</td>\n",
       "      <td>1</td>\n",
       "      <td>0</td>\n",
       "      <td>0</td>\n",
       "    </tr>\n",
       "  </tbody>\n",
       "</table>\n",
       "<p>933 rows × 6 columns</p>\n",
       "</div>"
      ],
      "text/plain": [
       "     department                            job  q1  q2  q3  q4\n",
       "0    Accounting      Account Representative IV   1   0   0   0\n",
       "1    Accounting                        Actuary   0   1   0   0\n",
       "2    Accounting             Analyst Programmer   0   0   1   0\n",
       "3    Accounting  Budget/Accounting Analyst III   0   1   0   0\n",
       "4    Accounting                Cost Accountant   0   1   0   0\n",
       "..          ...                            ...  ..  ..  ..  ..\n",
       "928    Training                        Teacher   0   2   0   0\n",
       "929    Training               Technical Writer   0   0   1   0\n",
       "930    Training          VP Product Management   1   0   0   0\n",
       "931    Training             VP Quality Control   0   1   0   0\n",
       "932    Training              Web Developer III   0   1   0   0\n",
       "\n",
       "[933 rows x 6 columns]"
      ]
     },
     "execution_count": 9,
     "metadata": {},
     "output_type": "execute_result"
    }
   ],
   "source": [
    "df_1"
   ]
  },
  {
   "cell_type": "code",
   "execution_count": null,
   "metadata": {},
   "outputs": [],
   "source": [
    "df_1.to_csv('employees_department.csv', index=False)"
   ]
  },
  {
   "cell_type": "code",
   "execution_count": 34,
   "metadata": {},
   "outputs": [],
   "source": [
    "query_2 = \"\"\"\n",
    "    SELECT \n",
    "        d.id AS department_id,\n",
    "        d.department AS department_name,\n",
    "        COUNT(e.id) AS employees_hired\n",
    "    FROM departments d\n",
    "    JOIN employees e ON d.id = e.department_id\n",
    "    WHERE EXTRACT(YEAR FROM TO_DATE(e.datetime, 'YYYY-MM-DD')) = 2021\n",
    "    GROUP BY d.id, d.department\n",
    "    HAVING COUNT(e.id) > (\n",
    "        SELECT AVG(employee_count) \n",
    "        FROM (\n",
    "            SELECT COUNT(id) AS employee_count\n",
    "            FROM employees  -- Se eliminó el alias \"e\"\n",
    "            WHERE EXTRACT(YEAR FROM TO_DATE(datetime, 'YYYY-MM-DD')) = 2021\n",
    "            GROUP BY department_id\n",
    "        ) AS dept_hiring_avg\n",
    "    )\n",
    "    ORDER BY employees_hired DESC;\n",
    "\"\"\""
   ]
  },
  {
   "cell_type": "code",
   "execution_count": 35,
   "metadata": {},
   "outputs": [],
   "source": [
    "df_2 = pd.read_sql(query_2, engine)"
   ]
  },
  {
   "cell_type": "code",
   "execution_count": 36,
   "metadata": {},
   "outputs": [
    {
     "data": {
      "text/html": [
       "<div>\n",
       "<style scoped>\n",
       "    .dataframe tbody tr th:only-of-type {\n",
       "        vertical-align: middle;\n",
       "    }\n",
       "\n",
       "    .dataframe tbody tr th {\n",
       "        vertical-align: top;\n",
       "    }\n",
       "\n",
       "    .dataframe thead th {\n",
       "        text-align: right;\n",
       "    }\n",
       "</style>\n",
       "<table border=\"1\" class=\"dataframe\">\n",
       "  <thead>\n",
       "    <tr style=\"text-align: right;\">\n",
       "      <th></th>\n",
       "      <th>department_id</th>\n",
       "      <th>department_name</th>\n",
       "      <th>employees_hired</th>\n",
       "    </tr>\n",
       "  </thead>\n",
       "  <tbody>\n",
       "    <tr>\n",
       "      <th>0</th>\n",
       "      <td>8</td>\n",
       "      <td>Support</td>\n",
       "      <td>220</td>\n",
       "    </tr>\n",
       "    <tr>\n",
       "      <th>1</th>\n",
       "      <td>5</td>\n",
       "      <td>Engineering</td>\n",
       "      <td>206</td>\n",
       "    </tr>\n",
       "    <tr>\n",
       "      <th>2</th>\n",
       "      <td>7</td>\n",
       "      <td>Services</td>\n",
       "      <td>202</td>\n",
       "    </tr>\n",
       "    <tr>\n",
       "      <th>3</th>\n",
       "      <td>6</td>\n",
       "      <td>Human Resources</td>\n",
       "      <td>201</td>\n",
       "    </tr>\n",
       "    <tr>\n",
       "      <th>4</th>\n",
       "      <td>4</td>\n",
       "      <td>Business Development</td>\n",
       "      <td>185</td>\n",
       "    </tr>\n",
       "    <tr>\n",
       "      <th>5</th>\n",
       "      <td>3</td>\n",
       "      <td>Research and Development</td>\n",
       "      <td>150</td>\n",
       "    </tr>\n",
       "    <tr>\n",
       "      <th>6</th>\n",
       "      <td>9</td>\n",
       "      <td>Marketing</td>\n",
       "      <td>143</td>\n",
       "    </tr>\n",
       "  </tbody>\n",
       "</table>\n",
       "</div>"
      ],
      "text/plain": [
       "   department_id           department_name  employees_hired\n",
       "0              8                   Support              220\n",
       "1              5               Engineering              206\n",
       "2              7                  Services              202\n",
       "3              6           Human Resources              201\n",
       "4              4      Business Development              185\n",
       "5              3  Research and Development              150\n",
       "6              9                 Marketing              143"
      ]
     },
     "execution_count": 36,
     "metadata": {},
     "output_type": "execute_result"
    }
   ],
   "source": [
    "df_2"
   ]
  },
  {
   "cell_type": "code",
   "execution_count": 37,
   "metadata": {},
   "outputs": [],
   "source": [
    "df_2.to_csv('hiring_department.csv')"
   ]
  }
 ],
 "metadata": {
  "kernelspec": {
   "display_name": "venv",
   "language": "python",
   "name": "python3"
  },
  "language_info": {
   "codemirror_mode": {
    "name": "ipython",
    "version": 3
   },
   "file_extension": ".py",
   "mimetype": "text/x-python",
   "name": "python",
   "nbconvert_exporter": "python",
   "pygments_lexer": "ipython3",
   "version": "3.11.4"
  }
 },
 "nbformat": 4,
 "nbformat_minor": 2
}
